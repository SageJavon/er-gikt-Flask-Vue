{
 "cells": [
  {
   "cell_type": "code",
   "execution_count": 19,
   "metadata": {},
   "outputs": [],
   "source": [
    "import mysql.connector\n",
    "import torch.nn.functional as F\n",
    "import numpy as np"
   ]
  },
  {
   "cell_type": "code",
   "execution_count": 23,
   "metadata": {},
   "outputs": [],
   "source": [
    "import torch\n",
    "def state2tensor(state_str):\n",
    "    state_list = list(map(float, state_str.replace(\"\\n\", \"\").strip('[]').split()))\n",
    "    # 将列表转换为 NumPy 数组\n",
    "    state_array = np.array(state_list)\n",
    "    # 将 NumPy 数组转换为 PyTorch 张量\n",
    "    state_tensor = torch.tensor(state_array)\n",
    "    return state_tensor"
   ]
  },
  {
   "cell_type": "code",
   "execution_count": 34,
   "metadata": {},
   "outputs": [
    {
     "name": "stdout",
     "output_type": "stream",
     "text": [
      "Connected to MySQL database\n",
      "[('79768', tensor(0.9755, dtype=torch.float64)), ('78367', tensor(0.9739, dtype=torch.float64)), ('78280', tensor(0.9739, dtype=torch.float64)), ('78729', tensor(0.9693, dtype=torch.float64)), ('96229', tensor(0.9593, dtype=torch.float64)), ('78983', tensor(0.9526, dtype=torch.float64)), ('78920', tensor(0.9526, dtype=torch.float64)), ('78718', tensor(0.9526, dtype=torch.float64)), ('78842', tensor(0.9517, dtype=torch.float64)), ('78411', tensor(0.9498, dtype=torch.float64)), ('84798', tensor(0.9491, dtype=torch.float64)), ('96220', tensor(0.9491, dtype=torch.float64)), ('82155', tensor(0.9490, dtype=torch.float64)), ('96266', tensor(0.9490, dtype=torch.float64)), ('79034', tensor(0.9490, dtype=torch.float64)), ('79319', tensor(0.9488, dtype=torch.float64)), ('78039', tensor(0.9487, dtype=torch.float64)), ('96222', tensor(0.9484, dtype=torch.float64)), ('78926', tensor(0.9481, dtype=torch.float64)), ('96286', tensor(0.9477, dtype=torch.float64)), ('79217', tensor(0.9477, dtype=torch.float64)), ('70677', tensor(0.9474, dtype=torch.float64)), ('79740', tensor(0.9472, dtype=torch.float64)), ('79750', tensor(0.9460, dtype=torch.float64)), ('70872', tensor(0.9448, dtype=torch.float64)), ('79620', tensor(0.9441, dtype=torch.float64)), ('78978', tensor(0.9438, dtype=torch.float64)), ('80350', tensor(0.9427, dtype=torch.float64)), ('78158', tensor(0.9367, dtype=torch.float64)), ('73685', tensor(0.9364, dtype=torch.float64)), ('79619', tensor(0.9326, dtype=torch.float64)), ('96285', tensor(0.9275, dtype=torch.float64)), ('79056', tensor(0.9273, dtype=torch.float64)), ('79027', tensor(0.9258, dtype=torch.float64)), ('79667', tensor(0.9258, dtype=torch.float64)), ('96210', tensor(0.9257, dtype=torch.float64)), ('81446', tensor(0.9257, dtype=torch.float64)), ('88479', tensor(0.9257, dtype=torch.float64)), ('78992', tensor(0.9257, dtype=torch.float64)), ('78454', tensor(0.9257, dtype=torch.float64)), ('79627', tensor(0.9257, dtype=torch.float64)), ('79074', tensor(0.9257, dtype=torch.float64)), ('78042', tensor(0.9255, dtype=torch.float64)), ('79022', tensor(0.9255, dtype=torch.float64)), ('78710', tensor(0.9255, dtype=torch.float64)), ('83205', tensor(0.9255, dtype=torch.float64)), ('78178', tensor(0.9250, dtype=torch.float64)), ('87132', tensor(0.9250, dtype=torch.float64)), ('78987', tensor(0.9249, dtype=torch.float64)), ('87133', tensor(0.9249, dtype=torch.float64)), ('78282', tensor(0.9249, dtype=torch.float64)), ('77997', tensor(0.9244, dtype=torch.float64)), ('80177', tensor(0.9242, dtype=torch.float64)), ('79682', tensor(0.9234, dtype=torch.float64)), ('78985', tensor(0.9232, dtype=torch.float64)), ('78909', tensor(0.9227, dtype=torch.float64)), ('96255', tensor(0.9219, dtype=torch.float64)), ('96211', tensor(0.9219, dtype=torch.float64)), ('79075', tensor(0.9219, dtype=torch.float64)), ('96289', tensor(0.9218, dtype=torch.float64)), ('85109', tensor(0.9218, dtype=torch.float64)), ('96272', tensor(0.9216, dtype=torch.float64)), ('78031', tensor(0.9215, dtype=torch.float64)), ('78051', tensor(0.9212, dtype=torch.float64)), ('79610', tensor(0.9204, dtype=torch.float64)), ('79772', tensor(0.9204, dtype=torch.float64)), ('73684', tensor(0.9186, dtype=torch.float64)), ('96296', tensor(0.9168, dtype=torch.float64)), ('96216', tensor(0.9164, dtype=torch.float64)), ('96214', tensor(0.9162, dtype=torch.float64)), ('84320', tensor(0.9153, dtype=torch.float64)), ('78704', tensor(0.9153, dtype=torch.float64)), ('78922', tensor(0.9100, dtype=torch.float64)), ('78806', tensor(0.9099, dtype=torch.float64)), ('78456', tensor(0.9093, dtype=torch.float64)), ('80719', tensor(0.9093, dtype=torch.float64)), ('80649', tensor(0.9093, dtype=torch.float64)), ('80181', tensor(0.9091, dtype=torch.float64)), ('78016', tensor(0.9090, dtype=torch.float64)), ('96227', tensor(0.9084, dtype=torch.float64)), ('96294', tensor(0.9053, dtype=torch.float64)), ('79111', tensor(0.9051, dtype=torch.float64)), ('96282', tensor(0.9050, dtype=torch.float64)), ('80651', tensor(0.9036, dtype=torch.float64)), ('78449', tensor(0.9034, dtype=torch.float64)), ('84137', tensor(0.9011, dtype=torch.float64))]\n",
      "MySQL connection closed\n"
     ]
    }
   ],
   "source": [
    "student_id = 53167\n",
    "try:\n",
    "        # 连接到 MySQL 数据库\n",
    "    conn = mysql.connector.connect(\n",
    "            host=\"mysql.mysql\",\n",
    "            user=\"root\",\n",
    "            password=\"pYRGObpCdG\",\n",
    "            database=\"sage_javon\",\n",
    "            port=3306\n",
    "        )\n",
    "\n",
    "    if conn.is_connected():\n",
    "            print('Connected to MySQL database')\n",
    "\n",
    "        # 创建游标对象，用于执行查询\n",
    "    cursor = conn.cursor(dictionary=True)\n",
    "\n",
    "        # 获取指定学生的知识状态\n",
    "    query = \"SELECT knowledge_state FROM student WHERE id = %s\"\n",
    "    cursor.execute(query, (student_id,))\n",
    "    student_knowledge_state_row = cursor.fetchone()\n",
    "\n",
    "    if not student_knowledge_state_row:\n",
    "        raise ValueError(f\"No student found with ID {student_id}\")\n",
    "    \n",
    "    student_knowledge_state = student_knowledge_state_row['knowledge_state']\n",
    "\n",
    "        # 获取其他所有学生的知识状态\n",
    "    query = \"SELECT id, knowledge_state FROM student WHERE id != %s\"\n",
    "    cursor.execute(query, (student_id,))\n",
    "    other_students = cursor.fetchall()\n",
    "\n",
    "    similarity_dict = {}\n",
    "\n",
    "    threshold = 0.90 # 设置相似度阈值\n",
    "\n",
    "    for other_student in other_students:\n",
    "        other_student_id = other_student['id']\n",
    "        other_student_knowledge_state = other_student['knowledge_state']\n",
    "\n",
    "        if other_student_knowledge_state != None:\n",
    "            # 计算二者的余弦相似度\n",
    "            similarity = F.cosine_similarity(\n",
    "                state2tensor(student_knowledge_state),\n",
    "                state2tensor(other_student_knowledge_state),\n",
    "                dim=0\n",
    "            )\n",
    "            if similarity > threshold:\n",
    "                similarity_dict[other_student_id] = similarity\n",
    "        # 将学生 ID 和相似度保存到字典 similarity_dict 中\n",
    "\n",
    "    # 相似度降序\n",
    "    sorted_similar_students = sorted(similarity_dict.items(), key=lambda x: x[1], reverse=True)\n",
    "\n",
    "    print(sorted_similar_students )\n",
    "\n",
    "except mysql.connector.Error as e:\n",
    "    print(\"Error connecting to MySQL database:\", e)\n",
    "\n",
    "finally:\n",
    "    # 关闭游标和数据库连接\n",
    "    if 'cursor' in locals() and cursor:\n",
    "        cursor.close()\n",
    "    if 'conn' in locals() and conn.is_connected():\n",
    "        conn.close()\n",
    "        print('MySQL connection closed')"
   ]
  },
  {
   "cell_type": "code",
   "execution_count": 32,
   "metadata": {},
   "outputs": [
    {
     "name": "stdout",
     "output_type": "stream",
     "text": [
      "{'70677': tensor(0.9474, dtype=torch.float64), '70872': tensor(0.9448, dtype=torch.float64), '73684': tensor(0.9186, dtype=torch.float64), '73685': tensor(0.9364, dtype=torch.float64), '77997': tensor(0.9244, dtype=torch.float64), '78016': tensor(0.9090, dtype=torch.float64), '78031': tensor(0.9215, dtype=torch.float64), '78039': tensor(0.9487, dtype=torch.float64), '78042': tensor(0.9255, dtype=torch.float64), '78051': tensor(0.9212, dtype=torch.float64), '78158': tensor(0.9367, dtype=torch.float64), '78178': tensor(0.9250, dtype=torch.float64), '78280': tensor(0.9739, dtype=torch.float64), '78282': tensor(0.9249, dtype=torch.float64), '78367': tensor(0.9739, dtype=torch.float64), '78411': tensor(0.9498, dtype=torch.float64), '78449': tensor(0.9034, dtype=torch.float64), '78454': tensor(0.9257, dtype=torch.float64), '78456': tensor(0.9093, dtype=torch.float64), '78704': tensor(0.9153, dtype=torch.float64), '78710': tensor(0.9255, dtype=torch.float64), '78718': tensor(0.9526, dtype=torch.float64), '78729': tensor(0.9693, dtype=torch.float64), '78806': tensor(0.9099, dtype=torch.float64), '78842': tensor(0.9517, dtype=torch.float64), '78909': tensor(0.9227, dtype=torch.float64), '78920': tensor(0.9526, dtype=torch.float64), '78922': tensor(0.9100, dtype=torch.float64), '78926': tensor(0.9481, dtype=torch.float64), '78978': tensor(0.9438, dtype=torch.float64), '78983': tensor(0.9526, dtype=torch.float64), '78985': tensor(0.9232, dtype=torch.float64), '78987': tensor(0.9249, dtype=torch.float64), '78992': tensor(0.9257, dtype=torch.float64), '79022': tensor(0.9255, dtype=torch.float64), '79027': tensor(0.9258, dtype=torch.float64), '79034': tensor(0.9490, dtype=torch.float64), '79056': tensor(0.9273, dtype=torch.float64), '79074': tensor(0.9257, dtype=torch.float64), '79075': tensor(0.9219, dtype=torch.float64), '79111': tensor(0.9051, dtype=torch.float64), '79217': tensor(0.9477, dtype=torch.float64), '79319': tensor(0.9488, dtype=torch.float64), '79610': tensor(0.9204, dtype=torch.float64), '79619': tensor(0.9326, dtype=torch.float64), '79620': tensor(0.9441, dtype=torch.float64), '79627': tensor(0.9257, dtype=torch.float64), '79667': tensor(0.9258, dtype=torch.float64), '79682': tensor(0.9234, dtype=torch.float64), '79740': tensor(0.9472, dtype=torch.float64), '79750': tensor(0.9460, dtype=torch.float64), '79768': tensor(0.9755, dtype=torch.float64), '79772': tensor(0.9204, dtype=torch.float64), '80177': tensor(0.9242, dtype=torch.float64), '80181': tensor(0.9091, dtype=torch.float64), '80350': tensor(0.9427, dtype=torch.float64), '80649': tensor(0.9093, dtype=torch.float64), '80651': tensor(0.9036, dtype=torch.float64), '80719': tensor(0.9093, dtype=torch.float64), '81446': tensor(0.9257, dtype=torch.float64), '82155': tensor(0.9490, dtype=torch.float64), '83205': tensor(0.9255, dtype=torch.float64), '84137': tensor(0.9011, dtype=torch.float64), '84320': tensor(0.9153, dtype=torch.float64), '84798': tensor(0.9491, dtype=torch.float64), '85109': tensor(0.9218, dtype=torch.float64), '87132': tensor(0.9250, dtype=torch.float64), '87133': tensor(0.9249, dtype=torch.float64), '88479': tensor(0.9257, dtype=torch.float64), '96210': tensor(0.9257, dtype=torch.float64), '96211': tensor(0.9219, dtype=torch.float64), '96214': tensor(0.9162, dtype=torch.float64), '96216': tensor(0.9164, dtype=torch.float64), '96220': tensor(0.9491, dtype=torch.float64), '96222': tensor(0.9484, dtype=torch.float64), '96227': tensor(0.9084, dtype=torch.float64), '96229': tensor(0.9593, dtype=torch.float64), '96255': tensor(0.9219, dtype=torch.float64), '96266': tensor(0.9490, dtype=torch.float64), '96272': tensor(0.9216, dtype=torch.float64), '96282': tensor(0.9050, dtype=torch.float64), '96285': tensor(0.9275, dtype=torch.float64), '96286': tensor(0.9477, dtype=torch.float64), '96289': tensor(0.9218, dtype=torch.float64), '96294': tensor(0.9053, dtype=torch.float64), '96296': tensor(0.9168, dtype=torch.float64)}\n"
     ]
    }
   ],
   "source": [
    "len(similarity_dict)\n",
    "print(similarity_dict)"
   ]
  },
  {
   "cell_type": "code",
   "execution_count": 29,
   "metadata": {},
   "outputs": [
    {
     "data": {
      "text/plain": [
       "tensor(0.8931, dtype=torch.float64)"
      ]
     },
     "execution_count": 29,
     "metadata": {},
     "output_type": "execute_result"
    }
   ],
   "source": [
    "F.cosine_similarity(state2tensor(student_knowledge_state),state2tensor(other_student_knowledge_state),dim=0)"
   ]
  },
  {
   "cell_type": "code",
   "execution_count": 26,
   "metadata": {},
   "outputs": [
    {
     "data": {
      "text/plain": [
       "'[-0.00000000e+00 -0.00000000e+00  0.00000000e+00 -1.67927835e-12\\n  1.25752224e-04 -9.51097012e-01 -0.00000000e+00 -9.51992750e-01\\n -3.35311232e-20  2.07435387e-05 -7.35780239e-01  0.00000000e+00\\n  1.30255157e-05  3.14421813e-24  3.59367450e-15 -1.85063298e-10\\n -9.65762511e-02  1.78139011e-18 -9.51289475e-01  5.04064523e-26\\n  1.23864590e-11  3.01758264e-04  2.61251330e-06  7.04366787e-10\\n  1.63676168e-06 -8.46333786e-20 -1.10111767e-04  2.36999829e-12\\n -2.46272214e-13  1.90847251e-12 -1.55079353e-04  0.00000000e+00\\n  9.51192141e-01  0.00000000e+00 -3.48834240e-17 -9.51978803e-01\\n  1.72824740e-14 -2.67265255e-14 -3.58582474e-02 -2.07676043e-10\\n -1.24718482e-03  1.67566148e-04  0.00000000e+00 -0.00000000e+00\\n  2.76528450e-20 -4.23807822e-10 -9.51936126e-01  6.08820017e-08\\n -0.00000000e+00  6.75263550e-07  6.62639709e-26  0.00000000e+00\\n -1.85078532e-11  1.16040017e-13  7.28996419e-10 -3.01749563e-11\\n  1.82104429e-06 -9.38173108e-26 -9.39041317e-01  2.40171421e-03\\n  0.00000000e+00  3.11221083e-06  2.02155115e-06  0.00000000e+00\\n -6.06484355e-05  8.89381096e-02  0.00000000e+00 -1.59917877e-03\\n  9.51992750e-01 -0.00000000e+00 -0.00000000e+00 -0.00000000e+00\\n  9.19129193e-01 -2.55262933e-07  6.08861184e-09  6.35964267e-11\\n -9.51992333e-01  9.51992750e-01 -0.00000000e+00 -1.71055348e-07\\n -9.49780282e-20  4.10000265e-01 -5.40844008e-13 -0.00000000e+00\\n  3.80706577e-10 -0.00000000e+00 -8.98116589e-01  8.66398817e-18\\n -0.00000000e+00 -9.50979531e-01  9.51992750e-01 -2.99500010e-26\\n -9.51830208e-01 -0.00000000e+00  0.00000000e+00  9.51992750e-01\\n  0.00000000e+00 -0.00000000e+00 -1.12128765e-10 -9.51992750e-01]'"
      ]
     },
     "execution_count": 26,
     "metadata": {},
     "output_type": "execute_result"
    }
   ],
   "source": [
    "other_student_knowledge_state"
   ]
  },
  {
   "cell_type": "code",
   "execution_count": 22,
   "metadata": {},
   "outputs": [
    {
     "ename": "IndexError",
     "evalue": "too many indices for array: array is 0-dimensional, but 1 were indexed",
     "output_type": "error",
     "traceback": [
      "\u001b[1;31m---------------------------------------------------------------------------\u001b[0m",
      "\u001b[1;31mIndexError\u001b[0m                                Traceback (most recent call last)",
      "Cell \u001b[1;32mIn[22], line 1\u001b[0m\n\u001b[1;32m----> 1\u001b[0m \u001b[43mstudent_knowledge_state\u001b[49m\u001b[43m[\u001b[49m\u001b[38;5;241;43m0\u001b[39;49m\u001b[43m]\u001b[49m\n",
      "\u001b[1;31mIndexError\u001b[0m: too many indices for array: array is 0-dimensional, but 1 were indexed"
     ]
    }
   ],
   "source": []
  },
  {
   "cell_type": "code",
   "execution_count": 20,
   "metadata": {},
   "outputs": [
    {
     "data": {
      "text/plain": [
       "numpy.ndarray"
      ]
     },
     "execution_count": 20,
     "metadata": {},
     "output_type": "execute_result"
    }
   ],
   "source": [
    "type(student_knowledge_state)"
   ]
  },
  {
   "cell_type": "code",
   "execution_count": null,
   "metadata": {},
   "outputs": [],
   "source": [
    "[-4.21929190e-06 -4.43273716e-12  9.51992214e-01 -1.67927521e-12\n",
    "  1.25752471e-04 -9.51097012e-01 -2.39947699e-19 -9.51992750e-01\n",
    " -3.35306095e-20  0.00000000e+00 -0.00000000e+00  4.08395987e-14\n",
    "  1.30255030e-05  0.00000000e+00  3.59363045e-15 -1.85063659e-10\n",
    " -9.65764970e-02  1.78138680e-18 -9.51289475e-01  5.04067451e-26\n",
    "  1.23865102e-11  3.01758526e-04  2.61252080e-06  0.00000000e+00\n",
    "  1.63676327e-06 -8.46334626e-20 -1.10111563e-04  2.36999266e-12\n",
    " -2.46271482e-13  1.90847446e-12 -0.00000000e+00  7.06778585e-17\n",
    "  9.51192141e-01  7.70749028e-17 -0.00000000e+00 -0.00000000e+00\n",
    "  1.72825079e-14 -0.00000000e+00 -3.58582065e-02 -0.00000000e+00\n",
    " -1.24718598e-03  1.67565668e-04  0.00000000e+00 -1.14751722e-10\n",
    "  2.76530065e-20 -4.23808488e-10 -0.00000000e+00  6.08820017e-08\n",
    " -9.51862216e-01  6.75264232e-07  0.00000000e+00  1.11119949e-16\n",
    " -1.85079486e-11  1.16039706e-13  7.28997918e-10 -3.01750118e-11\n",
    "  1.82104600e-06 -9.38166760e-26 -0.00000000e+00  2.40171864e-03\n",
    "  0.00000000e+00  3.11220265e-06  0.00000000e+00  0.00000000e+00\n",
    " -6.06484355e-05  8.89375806e-02  0.00000000e+00 -1.59917877e-03\n",
    "  9.51992750e-01 -0.00000000e+00 -0.00000000e+00 -3.94228747e-21\n",
    "  9.19129014e-01 -2.55262080e-07  6.08864514e-09  6.35964267e-11\n",
    " -0.00000000e+00  9.51992750e-01 -9.51992750e-01 -1.71055348e-07\n",
    " -9.49787585e-20  0.00000000e+00 -5.40845905e-13 -1.94090796e-18\n",
    "  3.80706189e-10 -3.56801834e-18 -8.98116589e-01  8.66388891e-18\n",
    " -9.51992512e-01 -9.50979531e-01  0.00000000e+00 -2.99498900e-26\n",
    " -9.51830208e-01 -3.20669324e-10  0.00000000e+00  9.51992750e-01\n",
    "  3.16771956e-11 -0.00000000e+00 -1.12128126e-10 -9.51992750e-01]"
   ]
  }
 ],
 "metadata": {
  "kernelspec": {
   "display_name": "atmk11111",
   "language": "python",
   "name": "python3"
  },
  "language_info": {
   "codemirror_mode": {
    "name": "ipython",
    "version": 3
   },
   "file_extension": ".py",
   "mimetype": "text/x-python",
   "name": "python",
   "nbconvert_exporter": "python",
   "pygments_lexer": "ipython3",
   "version": "3.9.15"
  }
 },
 "nbformat": 4,
 "nbformat_minor": 2
}
