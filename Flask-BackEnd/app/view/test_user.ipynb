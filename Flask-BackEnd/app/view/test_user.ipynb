{
 "cells": [
  {
   "cell_type": "code",
   "execution_count": 1,
   "metadata": {},
   "outputs": [
    {
     "ename": "ImportError",
     "evalue": "attempted relative import with no known parent package",
     "output_type": "error",
     "traceback": [
      "\u001b[1;31m---------------------------------------------------------------------------\u001b[0m",
      "\u001b[1;31mImportError\u001b[0m                               Traceback (most recent call last)",
      "Cell \u001b[1;32mIn[1], line 1\u001b[0m\n\u001b[1;32m----> 1\u001b[0m \u001b[38;5;28;01mfrom\u001b[39;00m \u001b[38;5;21;01m.\u001b[39;00m\u001b[38;5;21;01m.\u001b[39;00m\u001b[38;5;21;01mtest_kt_interface\u001b[39;00m \u001b[38;5;28;01mimport\u001b[39;00m fetch_exercise_records,stu_state_upload, cal_stu_knowledge_state_similarity\n",
      "\u001b[1;31mImportError\u001b[0m: attempted relative import with no known parent package"
     ]
    }
   ],
   "source": [
    "from ..test_kt_interface import fetch_exercise_records,stu_state_upload, cal_stu_knowledge_state_similarity"
   ]
  },
  {
   "cell_type": "code",
   "execution_count": 6,
   "metadata": {},
   "outputs": [],
   "source": [
    "import mysql.connector\n",
    "import torch.nn.functional as F\n",
    "import numpy as np"
   ]
  },
  {
   "cell_type": "code",
   "execution_count": 7,
   "metadata": {},
   "outputs": [],
   "source": [
    "import os"
   ]
  },
  {
   "cell_type": "code",
   "execution_count": 30,
   "metadata": {},
   "outputs": [],
   "source": [
    "def state2tensor(state_str):\n",
    "    state_list = list(map(float, state_str.replace(\"\\n\", \"\").strip('[]').split()))\n",
    "    # 将列表转换为 NumPy 数组\n",
    "    state_array = np.array(state_list)\n",
    "    # 将 NumPy 数组转换为 PyTorch 张量\n",
    "    state_tensor = torch.tensor(state_array)\n",
    "    return state_tensor"
   ]
  },
  {
   "cell_type": "code",
   "execution_count": 46,
   "metadata": {},
   "outputs": [
    {
     "name": "stdout",
     "output_type": "stream",
     "text": [
      "Connected to MySQL database\n",
      "MySQL connection closed\n"
     ]
    },
    {
     "ename": "AttributeError",
     "evalue": "'dict' object has no attribute 'tolist'",
     "output_type": "error",
     "traceback": [
      "\u001b[1;31m---------------------------------------------------------------------------\u001b[0m",
      "\u001b[1;31mAttributeError\u001b[0m                            Traceback (most recent call last)",
      "Cell \u001b[1;32mIn[46], line 53\u001b[0m\n\u001b[0;32m     49\u001b[0m             similarity_dict[other_student_id] \u001b[38;5;241m=\u001b[39m similarity\n\u001b[0;32m     50\u001b[0m     \u001b[38;5;66;03m# 将学生 ID 和相似度保存到字典 similarity_dict 中\u001b[39;00m\n\u001b[0;32m     51\u001b[0m \n\u001b[0;32m     52\u001b[0m \u001b[38;5;66;03m# 获取相似度最高的前10个学生\u001b[39;00m\n\u001b[1;32m---> 53\u001b[0m similarity_list \u001b[38;5;241m=\u001b[39m \u001b[43msimilarity_dict\u001b[49m\u001b[38;5;241;43m.\u001b[39;49m\u001b[43mtolist\u001b[49m()\n\u001b[0;32m     54\u001b[0m similarity_list\u001b[38;5;241m.\u001b[39msort(key\u001b[38;5;241m=\u001b[39m\u001b[38;5;28;01mlambda\u001b[39;00m x: x[\u001b[38;5;241m1\u001b[39m], reverse\u001b[38;5;241m=\u001b[39m\u001b[38;5;28;01mTrue\u001b[39;00m)\n\u001b[0;32m     55\u001b[0m top_similar_students \u001b[38;5;241m=\u001b[39m similarity_list[:\u001b[38;5;241m10\u001b[39m]\n",
      "\u001b[1;31mAttributeError\u001b[0m: 'dict' object has no attribute 'tolist'"
     ]
    }
   ],
   "source": [
    "student_id = 53167\n",
    "try:\n",
    "        # 连接到 MySQL 数据库\n",
    "    conn = mysql.connector.connect(\n",
    "            host=\"mysql.mysql\",\n",
    "            user=\"root\",\n",
    "            password=\"pYRGObpCdG\",\n",
    "            database=\"sage_javon\",\n",
    "            port=3306\n",
    "        )\n",
    "\n",
    "    if conn.is_connected():\n",
    "            print('Connected to MySQL database')\n",
    "\n",
    "        # 创建游标对象，用于执行查询\n",
    "    cursor = conn.cursor(dictionary=True)\n",
    "\n",
    "        # 获取指定学生的知识状态\n",
    "    query = \"SELECT knowledge_state FROM student WHERE id = %s\"\n",
    "    cursor.execute(query, (student_id,))\n",
    "    student_knowledge_state_row = cursor.fetchone()\n",
    "\n",
    "    if not student_knowledge_state_row:\n",
    "        raise ValueError(f\"No student found with ID {student_id}\")\n",
    "    \n",
    "    student_knowledge_state = student_knowledge_state_row['knowledge_state']\n",
    "\n",
    "        # 获取其他所有学生的知识状态\n",
    "    query = \"SELECT id, knowledge_state FROM student WHERE id != %s\"\n",
    "    cursor.execute(query, (student_id,))\n",
    "    other_students = cursor.fetchall()\n",
    "\n",
    "    similarity_dict = {}\n",
    "\n",
    "    threshold = 0.75\n",
    "\n",
    "    for other_student in other_students:\n",
    "        other_student_id = other_student['id']\n",
    "        other_student_knowledge_state = other_student['knowledge_state']\n",
    "\n",
    "        if other_student_knowledge_state != None:\n",
    "            # 计算二者的余弦相似度\n",
    "            similarity = F.cosine_similarity(\n",
    "                state2tensor(student_knowledge_state),\n",
    "                state2tensor(other_student_knowledge_state),\n",
    "                dim=0\n",
    "            )\n",
    "            if similarity > threshold:\n",
    "                similarity_dict[other_student_id] = similarity\n",
    "        # 将学生 ID 和相似度保存到字典 similarity_dict 中\n",
    "\n",
    "    # 获取相似度最高的前10个学生\n",
    "    similarity_list = similarity_dict.tolist()\n",
    "    similarity_list.sort(key=lambda x: x[1], reverse=True)\n",
    "    top_similar_students = similarity_list[:10]\n",
    "    print(dict(top_similar_students))\n",
    "\n",
    "except mysql.connector.Error as e:\n",
    "    print(\"Error connecting to MySQL database:\", e)\n",
    "\n",
    "finally:\n",
    "    # 关闭游标和数据库连接\n",
    "    if 'cursor' in locals() and cursor:\n",
    "        cursor.close()\n",
    "    if 'conn' in locals() and conn.is_connected():\n",
    "        conn.close()\n",
    "        print('MySQL connection closed')"
   ]
  },
  {
   "cell_type": "code",
   "execution_count": 48,
   "metadata": {},
   "outputs": [
    {
     "data": {
      "text/plain": [
       "524"
      ]
     },
     "execution_count": 48,
     "metadata": {},
     "output_type": "execute_result"
    }
   ],
   "source": [
    "len(similarity_dict)"
   ]
  },
  {
   "cell_type": "code",
   "execution_count": 45,
   "metadata": {},
   "outputs": [
    {
     "data": {
      "text/plain": [
       "tensor(0.7729, dtype=torch.float64)"
      ]
     },
     "execution_count": 45,
     "metadata": {},
     "output_type": "execute_result"
    }
   ],
   "source": [
    "F.cosine_similarity(state2tensor(student_knowledge_state),state2tensor(other_student_knowledge_state),dim=0)"
   ]
  },
  {
   "cell_type": "code",
   "execution_count": 34,
   "metadata": {},
   "outputs": [],
   "source": [
    "other_student_knowledge_state"
   ]
  },
  {
   "cell_type": "code",
   "execution_count": 22,
   "metadata": {},
   "outputs": [
    {
     "ename": "IndexError",
     "evalue": "too many indices for array: array is 0-dimensional, but 1 were indexed",
     "output_type": "error",
     "traceback": [
      "\u001b[1;31m---------------------------------------------------------------------------\u001b[0m",
      "\u001b[1;31mIndexError\u001b[0m                                Traceback (most recent call last)",
      "Cell \u001b[1;32mIn[22], line 1\u001b[0m\n\u001b[1;32m----> 1\u001b[0m \u001b[43mstudent_knowledge_state\u001b[49m\u001b[43m[\u001b[49m\u001b[38;5;241;43m0\u001b[39;49m\u001b[43m]\u001b[49m\n",
      "\u001b[1;31mIndexError\u001b[0m: too many indices for array: array is 0-dimensional, but 1 were indexed"
     ]
    }
   ],
   "source": []
  },
  {
   "cell_type": "code",
   "execution_count": 20,
   "metadata": {},
   "outputs": [
    {
     "data": {
      "text/plain": [
       "numpy.ndarray"
      ]
     },
     "execution_count": 20,
     "metadata": {},
     "output_type": "execute_result"
    }
   ],
   "source": [
    "type(student_knowledge_state)"
   ]
  },
  {
   "cell_type": "code",
   "execution_count": null,
   "metadata": {},
   "outputs": [],
   "source": [
    "[-4.21929190e-06 -4.43273716e-12  9.51992214e-01 -1.67927521e-12\n",
    "  1.25752471e-04 -9.51097012e-01 -2.39947699e-19 -9.51992750e-01\n",
    " -3.35306095e-20  0.00000000e+00 -0.00000000e+00  4.08395987e-14\n",
    "  1.30255030e-05  0.00000000e+00  3.59363045e-15 -1.85063659e-10\n",
    " -9.65764970e-02  1.78138680e-18 -9.51289475e-01  5.04067451e-26\n",
    "  1.23865102e-11  3.01758526e-04  2.61252080e-06  0.00000000e+00\n",
    "  1.63676327e-06 -8.46334626e-20 -1.10111563e-04  2.36999266e-12\n",
    " -2.46271482e-13  1.90847446e-12 -0.00000000e+00  7.06778585e-17\n",
    "  9.51192141e-01  7.70749028e-17 -0.00000000e+00 -0.00000000e+00\n",
    "  1.72825079e-14 -0.00000000e+00 -3.58582065e-02 -0.00000000e+00\n",
    " -1.24718598e-03  1.67565668e-04  0.00000000e+00 -1.14751722e-10\n",
    "  2.76530065e-20 -4.23808488e-10 -0.00000000e+00  6.08820017e-08\n",
    " -9.51862216e-01  6.75264232e-07  0.00000000e+00  1.11119949e-16\n",
    " -1.85079486e-11  1.16039706e-13  7.28997918e-10 -3.01750118e-11\n",
    "  1.82104600e-06 -9.38166760e-26 -0.00000000e+00  2.40171864e-03\n",
    "  0.00000000e+00  3.11220265e-06  0.00000000e+00  0.00000000e+00\n",
    " -6.06484355e-05  8.89375806e-02  0.00000000e+00 -1.59917877e-03\n",
    "  9.51992750e-01 -0.00000000e+00 -0.00000000e+00 -3.94228747e-21\n",
    "  9.19129014e-01 -2.55262080e-07  6.08864514e-09  6.35964267e-11\n",
    " -0.00000000e+00  9.51992750e-01 -9.51992750e-01 -1.71055348e-07\n",
    " -9.49787585e-20  0.00000000e+00 -5.40845905e-13 -1.94090796e-18\n",
    "  3.80706189e-10 -3.56801834e-18 -8.98116589e-01  8.66388891e-18\n",
    " -9.51992512e-01 -9.50979531e-01  0.00000000e+00 -2.99498900e-26\n",
    " -9.51830208e-01 -3.20669324e-10  0.00000000e+00  9.51992750e-01\n",
    "  3.16771956e-11 -0.00000000e+00 -1.12128126e-10 -9.51992750e-01]"
   ]
  }
 ],
 "metadata": {
  "kernelspec": {
   "display_name": "atmk11111",
   "language": "python",
   "name": "python3"
  },
  "language_info": {
   "codemirror_mode": {
    "name": "ipython",
    "version": 3
   },
   "file_extension": ".py",
   "mimetype": "text/x-python",
   "name": "python",
   "nbconvert_exporter": "python",
   "pygments_lexer": "ipython3",
   "version": "3.9.15"
  }
 },
 "nbformat": 4,
 "nbformat_minor": 2
}
