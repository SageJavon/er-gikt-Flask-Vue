{
 "cells": [
  {
   "cell_type": "code",
   "execution_count": 1,
   "metadata": {},
   "outputs": [],
   "source": [
    "import json\n",
    "import numpy as np\n",
    "from scipy import sparse\n",
    "import torch\n",
    "import pickle\n",
    "import heapq"
   ]
  },
  {
   "cell_type": "code",
   "execution_count": 2,
   "metadata": {},
   "outputs": [],
   "source": [
    "question2idx = np.load('data/question2idx.npy',allow_pickle=True).item()\n",
    "idx2question = np.load('data/idx2question.npy',allow_pickle=True).item()"
   ]
  },
  {
   "cell_type": "code",
   "execution_count": 3,
   "metadata": {},
   "outputs": [],
   "source": [
    "model = torch.load(f='../alg/model-100/result.pt')\n",
    "qq_table = sparse.load_npz('../alg/data/qq_table.npz').toarray()\n",
    "qs_table = sparse.load_npz('../alg/data/qs_table.npz').toarray()\n",
    "ss_table = sparse.load_npz('../alg/data/ss_table.npz').toarray()"
   ]
  },
  {
   "cell_type": "code",
   "execution_count": 4,
   "metadata": {},
   "outputs": [],
   "source": [
    "num = 10 # 假设推荐五道\n",
    "with open('test_history.json') as f:\n",
    "    json_data = json.load(f)\n",
    "history_answers = json_data['data']['exerciseRecordList'] # 获取历史答题记录"
   ]
  },
  {
   "cell_type": "code",
   "execution_count": 5,
   "metadata": {},
   "outputs": [],
   "source": [
    "q_list = [question2idx[a['exerciseId']] for a in history_answers] # 获取答题记录的index\n",
    "# 获取相关的习题\n",
    "q_set_related = set()  # 所有相关问题的id集合\n",
    "for q_id in q_list:\n",
    "    q_set_related.update(np.where(qq_table[q_id] > 0)[0].tolist())\n",
    "q_list_related = list(q_set_related)  # 所有相关问题的id数组\n",
    "if num > len(q_list_related):  # 相关题目比需要推荐的少，允许[重复]选\n",
    "    q_list_related *= (num / len(q_list_related) + 1)"
   ]
  },
  {
   "cell_type": "code",
   "execution_count": 8,
   "metadata": {},
   "outputs": [
    {
     "data": {
      "text/plain": [
       "22"
      ]
     },
     "execution_count": 8,
     "metadata": {},
     "output_type": "execute_result"
    }
   ],
   "source": [
    "len(set(q_list))"
   ]
  },
  {
   "cell_type": "code",
   "execution_count": 9,
   "metadata": {},
   "outputs": [],
   "source": [
    "filtered_list = [item for item in q_list_related if item not in q_list]"
   ]
  },
  {
   "cell_type": "code",
   "execution_count": 10,
   "metadata": {},
   "outputs": [
    {
     "data": {
      "text/plain": [
       "47"
      ]
     },
     "execution_count": 10,
     "metadata": {},
     "output_type": "execute_result"
    }
   ],
   "source": [
    "len(filtered_list)"
   ]
  },
  {
   "cell_type": "code",
   "execution_count": 11,
   "metadata": {},
   "outputs": [],
   "source": [
    "a_list = [1 if a['score'] > 0 else 0 for a in history_answers] # 获取答题记录的index"
   ]
  },
  {
   "cell_type": "code",
   "execution_count": 12,
   "metadata": {},
   "outputs": [
    {
     "data": {
      "text/plain": [
       "100"
      ]
     },
     "execution_count": 12,
     "metadata": {},
     "output_type": "execute_result"
    }
   ],
   "source": [
    "len(a_list)"
   ]
  },
  {
   "cell_type": "code",
   "execution_count": 38,
   "metadata": {},
   "outputs": [],
   "source": [
    "max_length = 200\n",
    "question_tensor_list = []\n",
    "answer_tensor_list = []\n",
    "mask_tensor_list = []\n",
    "time_step = len(q_list)\n",
    "for q_related in q_list_related:\n",
    "    combined_q_list = q_list + [q_related] # 原始的答题记录加上最后一道用于预测的题目\n",
    "    combined_a_list = a_list + [0]\n",
    "    combined_m_list = [1 for i in range(len(combined_q_list))]\n",
    "    if len(combined_q_list) < max_length:  # 如果序列长度小于最大长度\n",
    "        combined_q_list += [0] * (max_length - len(combined_q_list))\n",
    "        combined_a_list += [0] * (max_length - len(combined_a_list))\n",
    "        combined_m_list += [0] * (max_length - len(combined_m_list))\n",
    "    elif len(combined_q_list) > max_length:\n",
    "        combined_q_list = combined_q_list[-max_length:]\n",
    "        combined_a_list = combined_a_list[-max_length:]\n",
    "        combined_m_list = combined_m_list[-max_length:]\n",
    "    question_tensor_list.append(combined_q_list)\n",
    "    answer_tensor_list.append(combined_a_list)\n",
    "    mask_tensor_list.append(combined_m_list)\n",
    "question_tensor = torch.tensor(question_tensor_list, dtype=torch.int64)\n",
    "answer_tensor = torch.tensor(answer_tensor_list, dtype=torch.int64)\n",
    "mask_tensor = torch.tensor(mask_tensor_list, dtype=torch.int64)"
   ]
  },
  {
   "cell_type": "code",
   "execution_count": 39,
   "metadata": {},
   "outputs": [],
   "source": [
    "c_list = model(\n",
    "        question=question_tensor,  \n",
    "        response=answer_tensor,  \n",
    "        mask=mask_tensor  \n",
    "    ).squeeze(dim=0).tolist()"
   ]
  },
  {
   "cell_type": "code",
   "execution_count": 40,
   "metadata": {},
   "outputs": [
    {
     "data": {
      "text/plain": [
       "[0.5,\n",
       " 0.09329011291265488,\n",
       " 0.99540114402771,\n",
       " 0.9853528141975403,\n",
       " 0.9999997615814209,\n",
       " 0.9999986886978149,\n",
       " 1.0,\n",
       " 1.0,\n",
       " 1.0,\n",
       " 1.0,\n",
       " 1.0,\n",
       " 1.0,\n",
       " 0.21285085380077362,\n",
       " 2.468774198405299e-07,\n",
       " 0.6484835147857666,\n",
       " 0.9999624490737915,\n",
       " 0.9999474287033081,\n",
       " 0.974062979221344,\n",
       " 0.0001970761950360611,\n",
       " 0.0037434531841427088,\n",
       " 0.7693697810173035,\n",
       " 0.5354295372962952,\n",
       " 0.9798581600189209,\n",
       " 0.9999998807907104,\n",
       " 1.0,\n",
       " 1.0,\n",
       " 0.9999998807907104,\n",
       " 3.004030010855807e-11,\n",
       " 9.931188742484665e-07,\n",
       " 0.9999977350234985,\n",
       " 1.0,\n",
       " 0.9999998807907104,\n",
       " 1.0,\n",
       " 0.9999995231628418,\n",
       " 0.9999996423721313,\n",
       " 0.9999995231628418,\n",
       " 0.9999995231628418,\n",
       " 3.293131885584444e-05,\n",
       " 1.7449110600864515e-07,\n",
       " 0.02648080512881279,\n",
       " 1.4119654224487022e-05,\n",
       " 2.0622437659767456e-06,\n",
       " 1.8434575110859441e-07,\n",
       " 3.856914929656341e-07,\n",
       " 2.840967283646023e-07,\n",
       " 6.824170100117044e-07,\n",
       " 6.777899557164346e-07,\n",
       " 1.8115191835477162e-07,\n",
       " 1.1440952363273027e-07,\n",
       " 1.2217184064411413e-07,\n",
       " 2.5056104391296685e-07,\n",
       " 2.562811403095111e-07,\n",
       " 2.69099245997495e-07,\n",
       " 2.311091691353795e-07,\n",
       " 2.0119364307902288e-07,\n",
       " 1.9640222603811708e-07,\n",
       " 2.487399228812137e-07,\n",
       " 2.6515374429436633e-07,\n",
       " 1.318203715072741e-07,\n",
       " 1.7594052792446746e-07,\n",
       " 2.3092077583442006e-07,\n",
       " 2.2926364806608035e-07,\n",
       " 2.3731264775506133e-07,\n",
       " 2.5884330057124316e-07,\n",
       " 2.6000685693361447e-07,\n",
       " 2.5418347604500013e-07,\n",
       " 3.679041640225478e-07,\n",
       " 3.242243735712691e-07,\n",
       " 2.156098020122954e-07,\n",
       " 0.0407293327152729,\n",
       " 0.999996542930603,\n",
       " 0.9999994039535522,\n",
       " 0.9999682903289795,\n",
       " 3.4747692552627996e-05,\n",
       " 8.084025466814637e-07,\n",
       " 0.21550923585891724,\n",
       " 0.0278392992913723,\n",
       " 0.02594195492565632,\n",
       " 0.02749672345817089,\n",
       " 0.9837265610694885,\n",
       " 0.9994020462036133,\n",
       " 0.9993970394134521,\n",
       " 0.9994673132896423,\n",
       " 0.9989696741104126,\n",
       " 0.06598202139139175,\n",
       " 0.03801201656460762,\n",
       " 0.0374581441283226,\n",
       " 0.02965494617819786,\n",
       " 0.07673075795173645,\n",
       " 1.1367801144857026e-09,\n",
       " 4.0897159436781294e-08,\n",
       " 1.0,\n",
       " 1.0,\n",
       " 0.981502115726471,\n",
       " 0.4665655195713043,\n",
       " 0.9999998807907104,\n",
       " 1.0,\n",
       " 1.0,\n",
       " 1.0,\n",
       " 0.9999982118606567,\n",
       " 2.0057963467934314e-07,\n",
       " 0.8991469144821167,\n",
       " 0.42937833070755005,\n",
       " 0.9759488105773926,\n",
       " 0.7421224117279053,\n",
       " 0.97348952293396,\n",
       " 0.9944891929626465,\n",
       " 0.8400945663452148,\n",
       " 0.996342122554779,\n",
       " 0.9848015904426575,\n",
       " 0.7689872980117798,\n",
       " 0.42289620637893677,\n",
       " 0.3416353762149811,\n",
       " 0.3612193763256073,\n",
       " 0.13841934502124786,\n",
       " 0.9546741247177124,\n",
       " 0.6804575324058533,\n",
       " 0.9847773313522339,\n",
       " 0.7290831804275513,\n",
       " 0.9559190273284912,\n",
       " 0.7969943881034851,\n",
       " 0.7283837795257568,\n",
       " 0.10151994228363037,\n",
       " 0.02676880918443203,\n",
       " 0.9773643612861633,\n",
       " 0.9422591328620911,\n",
       " 0.9471912384033203,\n",
       " 0.761716902256012,\n",
       " 0.4563983082771301,\n",
       " 0.48569977283477783,\n",
       " 0.9811868667602539,\n",
       " 0.848068118095398,\n",
       " 0.0024448714684695005,\n",
       " 0.9169146418571472,\n",
       " 0.7218301892280579,\n",
       " 0.4076669216156006,\n",
       " 0.005409685894846916,\n",
       " 0.9447188377380371,\n",
       " 0.4091624617576599,\n",
       " 0.34491991996765137,\n",
       " 0.0532146617770195,\n",
       " 0.9199725985527039,\n",
       " 0.29566335678100586,\n",
       " 0.7958964109420776,\n",
       " 0.6232414841651917,\n",
       " 0.013955304399132729,\n",
       " 0.01766163855791092,\n",
       " 0.34772059321403503,\n",
       " 0.9605833292007446,\n",
       " 0.25005581974983215,\n",
       " 0.15619127452373505,\n",
       " 0.9172524213790894,\n",
       " 0.2556596100330353,\n",
       " 0.1067257896065712,\n",
       " 0.19976487755775452,\n",
       " 0.3738057017326355,\n",
       " 0.9963582158088684,\n",
       " 0.610417366027832,\n",
       " 0.40133076906204224,\n",
       " 0.11319310963153839,\n",
       " 0.9413150548934937,\n",
       " 0.9697615504264832,\n",
       " 0.9758458137512207,\n",
       " 0.5167564749717712,\n",
       " 0.9812549352645874,\n",
       " 0.9698635935783386,\n",
       " 0.32118523120880127,\n",
       " 0.7063469290733337,\n",
       " 0.018642012029886246,\n",
       " 0.9561408162117004,\n",
       " 0.8917201161384583,\n",
       " 0.7542617321014404,\n",
       " 0.9805331230163574,\n",
       " 0.932386040687561,\n",
       " 0.900100588798523,\n",
       " 0.7453536987304688,\n",
       " 0.4406062960624695,\n",
       " 0.9482203722000122,\n",
       " 0.16959570348262787,\n",
       " 0.4408884346485138,\n",
       " 0.3401235342025757,\n",
       " 0.9921008944511414,\n",
       " 0.7325160503387451,\n",
       " 0.9613401293754578,\n",
       " 0.933558464050293,\n",
       " 0.016871167346835136,\n",
       " 0.7344911694526672,\n",
       " 0.19630281627178192,\n",
       " 0.39396578073501587,\n",
       " 0.6050347089767456,\n",
       " 0.17543287575244904,\n",
       " 0.8607487678527832,\n",
       " 0.9343426823616028,\n",
       " 0.9998797178268433,\n",
       " 0.6455098986625671,\n",
       " 0.9515761137008667,\n",
       " 0.4467228353023529,\n",
       " 0.7269814610481262,\n",
       " 0.9200502634048462,\n",
       " 0.9284816384315491]"
      ]
     },
     "execution_count": 40,
     "metadata": {},
     "output_type": "execute_result"
    }
   ],
   "source": [
    "c_list[0]"
   ]
  },
  {
   "cell_type": "code",
   "execution_count": 15,
   "metadata": {},
   "outputs": [
    {
     "data": {
      "text/plain": [
       "0.9990842342376709"
      ]
     },
     "execution_count": 15,
     "metadata": {},
     "output_type": "execute_result"
    }
   ],
   "source": [
    "c_list[2][time_step]"
   ]
  },
  {
   "cell_type": "code",
   "execution_count": 56,
   "metadata": {},
   "outputs": [
    {
     "data": {
      "text/plain": [
       "68"
      ]
     },
     "execution_count": 56,
     "metadata": {},
     "output_type": "execute_result"
    }
   ],
   "source": [
    "len(q_list_related)"
   ]
  },
  {
   "cell_type": "code",
   "execution_count": 67,
   "metadata": {},
   "outputs": [
    {
     "data": {
      "text/plain": [
       "100"
      ]
     },
     "execution_count": 67,
     "metadata": {},
     "output_type": "execute_result"
    }
   ],
   "source": [
    "len(q_list)"
   ]
  },
  {
   "cell_type": "code",
   "execution_count": 34,
   "metadata": {},
   "outputs": [],
   "source": [
    "frequency = {}\n",
    "for item in q_list:\n",
    "    if frequency.get(item):\n",
    "        frequency[item] = frequency[item]+1\n",
    "    else:\n",
    "        frequency[item] = 1\n",
    "for item in filtered_list:\n",
    "    frequency[item] = 0"
   ]
  },
  {
   "cell_type": "code",
   "execution_count": 76,
   "metadata": {},
   "outputs": [
    {
     "data": {
      "text/plain": [
       "22"
      ]
     },
     "execution_count": 76,
     "metadata": {},
     "output_type": "execute_result"
    }
   ],
   "source": [
    "len(set(q_list))"
   ]
  },
  {
   "cell_type": "code",
   "execution_count": 77,
   "metadata": {},
   "outputs": [
    {
     "data": {
      "text/plain": [
       "68"
      ]
     },
     "execution_count": 77,
     "metadata": {},
     "output_type": "execute_result"
    }
   ],
   "source": [
    "len(q_list_related)"
   ]
  },
  {
   "cell_type": "code",
   "execution_count": 78,
   "metadata": {},
   "outputs": [
    {
     "data": {
      "text/plain": [
       "46"
      ]
     },
     "execution_count": 78,
     "metadata": {},
     "output_type": "execute_result"
    }
   ],
   "source": [
    "len(filtered_list)"
   ]
  },
  {
   "cell_type": "code",
   "execution_count": 86,
   "metadata": {},
   "outputs": [
    {
     "data": {
      "text/plain": [
       "68"
      ]
     },
     "execution_count": 86,
     "metadata": {},
     "output_type": "execute_result"
    }
   ],
   "source": [
    "len(frequency)"
   ]
  },
  {
   "cell_type": "code",
   "execution_count": 35,
   "metadata": {},
   "outputs": [],
   "source": [
    "predict = []\n",
    "for i in range(len(q_list_related)):\n",
    "    predict.append({\n",
    "        'exerciseId': idx2question[q_list_related[i]],\n",
    "        'predict': c_list[i][time_step-1],\n",
    "        'isInHistory': 0 if q_list_related[i] in filtered_list else 1,\n",
    "        'frequency': frequency[q_list_related[i]]\n",
    "    })"
   ]
  },
  {
   "cell_type": "code",
   "execution_count": 64,
   "metadata": {},
   "outputs": [
    {
     "data": {
      "text/plain": [
       "68"
      ]
     },
     "execution_count": 64,
     "metadata": {},
     "output_type": "execute_result"
    }
   ],
   "source": [
    "len(predict)"
   ]
  },
  {
   "cell_type": "code",
   "execution_count": 103,
   "metadata": {},
   "outputs": [
    {
     "data": {
      "text/plain": [
       "100"
      ]
     },
     "execution_count": 103,
     "metadata": {},
     "output_type": "execute_result"
    }
   ],
   "source": [
    "len(q_list)"
   ]
  },
  {
   "cell_type": "code",
   "execution_count": 41,
   "metadata": {},
   "outputs": [],
   "source": [
    "predict_list = [c_list[i][time_step] for i in range(len(q_list_related))]"
   ]
  },
  {
   "cell_type": "code",
   "execution_count": 19,
   "metadata": {},
   "outputs": [
    {
     "data": {
      "text/plain": [
       "69"
      ]
     },
     "execution_count": 19,
     "metadata": {},
     "output_type": "execute_result"
    }
   ],
   "source": [
    "len(predict_list)"
   ]
  },
  {
   "cell_type": "code",
   "execution_count": 42,
   "metadata": {},
   "outputs": [
    {
     "data": {
      "text/plain": [
       "[(3.94132426348448e-12, 15),\n",
       " (4.937236036672843e-11, 136),\n",
       " (1.7563205290116457e-07, 127),\n",
       " (2.0057963467934314e-07, 1),\n",
       " (9.080370659830805e-07, 59),\n",
       " (9.591861953595071e-07, 171),\n",
       " (4.34222056355793e-06, 122),\n",
       " (1.0386169378762133e-05, 164),\n",
       " (1.3969324754725676e-05, 9),\n",
       " (5.104697265778668e-05, 144)]"
      ]
     },
     "execution_count": 42,
     "metadata": {},
     "output_type": "execute_result"
    }
   ],
   "source": [
    "recommend = heapq.nsmallest(num, zip(predict_list, q_list_related))\n",
    "recommend"
   ]
  },
  {
   "cell_type": "code",
   "execution_count": 56,
   "metadata": {},
   "outputs": [],
   "source": [
    "\n",
    "c_list, q_list_recommend = [round(rec[0], 4) for rec in recommend], [idx2question[rec[1]] for rec in recommend]"
   ]
  },
  {
   "cell_type": "code",
   "execution_count": 57,
   "metadata": {},
   "outputs": [
    {
     "data": {
      "text/plain": [
       "[126, 1173, 1164, 112, 170, 1208, 1159, 1201, 120, 1181]"
      ]
     },
     "execution_count": 57,
     "metadata": {},
     "output_type": "execute_result"
    }
   ],
   "source": [
    "q_list_recommend"
   ]
  },
  {
   "cell_type": "code",
   "execution_count": 36,
   "metadata": {},
   "outputs": [],
   "source": [
    "import pandas as pd\n",
    "df = pd.DataFrame(predict, columns=['exerciseId', 'predict','isInHistory','frequency'])\n",
    "df.to_excel('test_predict_with_answer_new1_timesep-1.xlsx')"
   ]
  },
  {
   "cell_type": "code",
   "execution_count": 49,
   "metadata": {},
   "outputs": [],
   "source": [
    "s_set = set()  # 所有相关技能id集合\n",
    "for q_id in q_list_recommend: # 这里为什么只更新推荐习题的相关知识点\n",
    "    s_set.update(np.where(qs_table[q_id] > 0)[0].tolist())"
   ]
  },
  {
   "cell_type": "code",
   "execution_count": 53,
   "metadata": {},
   "outputs": [
    {
     "data": {
      "text/plain": [
       "(429, 145)"
      ]
     },
     "execution_count": 53,
     "metadata": {},
     "output_type": "execute_result"
    }
   ],
   "source": [
    "qs_table.shape"
   ]
  },
  {
   "cell_type": "code",
   "execution_count": 51,
   "metadata": {},
   "outputs": [],
   "source": [
    "skill2idx = np.load('data/skill2idx.npy',allow_pickle=True).item()\n",
    "idx2skill = np.load('data/skill2idx.npy',allow_pickle=True).item()"
   ]
  },
  {
   "cell_type": "code",
   "execution_count": 52,
   "metadata": {},
   "outputs": [
    {
     "data": {
      "text/plain": [
       "{5, 12, 13, 17, 18, 22, 29, 40, 46, 85, 95, 121}"
      ]
     },
     "execution_count": 52,
     "metadata": {},
     "output_type": "execute_result"
    }
   ],
   "source": [
    "s_set\n"
   ]
  },
  {
   "cell_type": "code",
   "execution_count": null,
   "metadata": {},
   "outputs": [],
   "source": []
  },
  {
   "cell_type": "code",
   "execution_count": null,
   "metadata": {},
   "outputs": [],
   "source": [
    "s_list = list(s_set)  # 相关技能的id数组\n",
    "s_names = [s.name for s in Skill.query.filter(Skill.id.in_(s_list)).all()]  # 技能名称数组"
   ]
  },
  {
   "cell_type": "code",
   "execution_count": null,
   "metadata": {},
   "outputs": [],
   "source": [
    "\n",
    "    # 计算推荐习题中技能的分布情况\n",
    "   \n",
    "    s_list = list(s_set)  # 相关技能的id数组\n",
    "    ic(s_list)\n",
    "    s_names = [s.name for s in Skill.query.filter(Skill.id.in_(s_list)).all()]  # 技能名称数组\n",
    "    ic(s_names)\n",
    "    s_q_num = [0 for _ in range(len(s_list))]  # 每个技能涉及的问题数量\n",
    "    for q_id in q_list_recommend:\n",
    "        s_list1 = np.where(qs_table[convert2Index(q_id)] > 0)[0].tolist()\n",
    "        for s_id in s_list1:\n",
    "            s_q_num[s_list.index(s_id)] += 1\n",
    "    ic(s_q_num)\n",
    "    s_values = [num / sum(s_q_num) for num in s_q_num]  # 除以和，使其元素之和为1\n",
    "    return {\n",
    "        'data': {\n",
    "            'qList': q_list_recommend,\n",
    "            'cList': c_list,\n",
    "            'skillData': [{\n",
    "                'value': value,\n",
    "                'name': name\n",
    "            } for name, value in zip(s_names, s_values)]\n",
    "        }\n",
    "    }\n"
   ]
  },
  {
   "cell_type": "code",
   "execution_count": null,
   "metadata": {},
   "outputs": [],
   "source": [
    "num = int(request.args.get('num'))  # 推荐数量\n",
    "    user_id = int(request.args.get('userId'))\n",
    "    history_answers = Answer.query.filter_by(user_id=user_id).all()  # 该同学所有相关的问答\n",
    "    q_list = [a.q_id for a in history_answers]  # 所有回答过的问题id\n",
    "    ic(q_list)\n",
    "    q_set_related = set()  # 所有相关问题的id集合\n",
    "    for q_id in q_list:\n",
    "        q_set_related.update(np.where(qq_table[q_id] > 0)[0].tolist())\n",
    "    q_list_related = list(q_set_related)  # 所有相关问题的id数组\n",
    "    if num > len(q_list_related):  # 相关题目比需要推荐的少，允许[重复]选\n",
    "        q_list_related *= (num / len(q_list_related) + 1)\n",
    "\n",
    "\n",
    "    ones = torch.ones(size=[1, len(q_list_related), ], dtype=torch.int, device=DEVICE)\n",
    "    # TODO 2024/7/21 这里要改动，首先是模型加一个输出，其次是这里面的参数要改？\n",
    "    c_list, knowledge_vectors = model(\n",
    "        question=torch.unsqueeze(torch.tensor(q_list_related, device=DEVICE), dim=0),  # 问题id列表\n",
    "        response=ones,  # 推荐时回答全设置为1\n",
    "        mask=ones  # 题目都是有效的，maks也全为1\n",
    "    ).squeeze(dim=0).tolist()\n",
    "    # TODO 假设取前10个最小的 第一个参数为10\n",
    "    recommend = heapq.nsmallest(10, zip(c_list, q_list))\n",
    "    c_list, q_list_recommend = [round(rec[0], 4) for rec in recommend], [rec[1] for rec in recommend]\n",
    "    # 计算推荐习题中技能的分布情况\n",
    "    s_set = set()  # 所有相关技能id集合\n",
    "    for q_id in q_list_recommend:\n",
    "        s_set.update(np.where(qs_table[q_id] > 0)[0].tolist())\n",
    "    s_list = list(s_set)  # 相关技能的id数组\n",
    "    ic(s_list)\n",
    "    s_names = [s.name for s in Skill.query.filter(Skill.id.in_(s_list)).all()]  # 技能名称数组\n",
    "    ic(s_names)\n",
    "    s_q_num = [0 for _ in range(len(s_list))]  # 每个技能涉及的问题数量\n",
    "    for q_id in q_list_recommend:\n",
    "        s_list1 = np.where(qs_table[q_id] > 0)[0].tolist()\n",
    "        for s_id in s_list1:\n",
    "            s_q_num[s_list.index(s_id)] += 1\n",
    "    ic(s_q_num)\n",
    "    s_values = [num / sum(s_q_num) for num in s_q_num]  # 除以和，使其元素之和为1\n",
    "\n",
    "    # TODO 2024/7/21 用户协同过滤\n",
    "    # 1. 获取当前用户的知识点掌握程度向量，或者从数据库里取\n",
    "    current_user_vector = knowledge_vectors[user_id]\n",
    "\n",
    "    # 2. 获取所有用户的知识点掌握程度向量 (这里需要从数据库或缓存中加载所有用户的knowledge_vectors;在gikt过程中把这个向量要存入数据库？)\n",
    "    # all_knowledge_vectors = load_all_knowledge_vectors()  # 假设有这个函数\n",
    "    all_knowledge_vectors = knowledge_vectors  # 从GIKT返回的 所有用户的 knowledge_vectors（GIKT返回的是所有的 还是一个batch里面的？）\n",
    "\n",
    "    # 3. 获取当前用户的相似用户\n",
    "    similar_users = get_similar_users(all_knowledge_vectors, current_user_vector, threshold=0.95) # 这个threshold可以根据情况调整\n",
    "\n",
    "    # 4. 计算相似用户的平均知识点掌握程度\n",
    "    avg_knowledge = average_knowledge(all_knowledge_vectors, similar_users)\n",
    "\n",
    "    # 5. 根据 GIKT 模型得到的预备习题库进行过滤\n",
    "    pre_recommend_list = q_list_recommend[:num]  # 假设模型返回了足够多的问题\n",
    "    # emb_table_question.weight 模型内部的嵌入层权重，表示问题的嵌入向量\n",
    "    question_similarities = torch.matmul(model.emb_table_question.weight[pre_recommend_list], avg_knowledge)\n",
    "    filtered_recommended_questions = torch.topk(question_similarities, num).indices.tolist()\n",
    "\n",
    "    return {\n",
    "        'data': {\n",
    "            # 'qList': q_list_recommend,\n",
    "            # TODO 2024/07/21 修改 q_list_recommend ——> filtered_recommended_questions\n",
    "            'qList': filtered_recommended_questions,\n",
    "            'cList': c_list,\n",
    "            'skillData': [{\n",
    "                'value': value,\n",
    "                'name': name\n",
    "            } for name, value in zip(s_names, s_values)]\n",
    "        }\n",
    "    }"
   ]
  },
  {
   "cell_type": "code",
   "execution_count": 1,
   "metadata": {},
   "outputs": [
    {
     "ename": "ImportError",
     "evalue": "attempted relative import with no known parent package",
     "output_type": "error",
     "traceback": [
      "\u001b[1;31m---------------------------------------------------------------------------\u001b[0m",
      "\u001b[1;31mImportError\u001b[0m                               Traceback (most recent call last)",
      "Cell \u001b[1;32mIn[1], line 1\u001b[0m\n\u001b[1;32m----> 1\u001b[0m \u001b[38;5;28;01mfrom\u001b[39;00m \u001b[38;5;21;01m.\u001b[39;00m\u001b[38;5;21;01m.\u001b[39;00m\u001b[38;5;21;01mtest_kt_interface\u001b[39;00m \u001b[38;5;28;01mimport\u001b[39;00m fetch_exercise_records,stu_state_upload, cal_stu_knowledge_state_similarity\n",
      "\u001b[1;31mImportError\u001b[0m: attempted relative import with no known parent package"
     ]
    }
   ],
   "source": [
    "from ..test_kt_interface import fetch_exercise_records,stu_state_upload, cal_stu_knowledge_state_similarity"
   ]
  }
 ],
 "metadata": {
  "kernelspec": {
   "display_name": "gikt",
   "language": "python",
   "name": "python3"
  },
  "language_info": {
   "codemirror_mode": {
    "name": "ipython",
    "version": 3
   },
   "file_extension": ".py",
   "mimetype": "text/x-python",
   "name": "python",
   "nbconvert_exporter": "python",
   "pygments_lexer": "ipython3",
   "version": "3.9.15"
  }
 },
 "nbformat": 4,
 "nbformat_minor": 2
}
